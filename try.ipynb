{
 "cells": [
  {
   "cell_type": "code",
   "execution_count": 4,
   "metadata": {},
   "outputs": [
    {
     "name": "stdout",
     "output_type": "stream",
     "text": [
      "https://books.toscrape.com/catalogue/page-1.html\n",
      "https://books.toscrape.com/catalogue/page-2.html\n",
      "https://books.toscrape.com/catalogue/page-3.html\n",
      "https://books.toscrape.com/catalogue/page-4.html\n",
      "https://books.toscrape.com/catalogue/page-5.html\n",
      "https://books.toscrape.com/catalogue/page-6.html\n",
      "https://books.toscrape.com/catalogue/page-7.html\n",
      "https://books.toscrape.com/catalogue/page-8.html\n",
      "https://books.toscrape.com/catalogue/page-9.html\n",
      "https://books.toscrape.com/catalogue/page-10.html\n",
      "https://books.toscrape.com/catalogue/page-11.html\n",
      "https://books.toscrape.com/catalogue/page-12.html\n",
      "https://books.toscrape.com/catalogue/page-13.html\n",
      "https://books.toscrape.com/catalogue/page-14.html\n",
      "https://books.toscrape.com/catalogue/page-15.html\n",
      "https://books.toscrape.com/catalogue/page-16.html\n",
      "https://books.toscrape.com/catalogue/page-17.html\n",
      "https://books.toscrape.com/catalogue/page-18.html\n",
      "https://books.toscrape.com/catalogue/page-19.html\n",
      "https://books.toscrape.com/catalogue/page-20.html\n",
      "https://books.toscrape.com/catalogue/page-21.html\n",
      "https://books.toscrape.com/catalogue/page-22.html\n",
      "https://books.toscrape.com/catalogue/page-23.html\n",
      "https://books.toscrape.com/catalogue/page-24.html\n",
      "https://books.toscrape.com/catalogue/page-25.html\n",
      "https://books.toscrape.com/catalogue/page-26.html\n",
      "https://books.toscrape.com/catalogue/page-27.html\n",
      "https://books.toscrape.com/catalogue/page-28.html\n",
      "https://books.toscrape.com/catalogue/page-29.html\n",
      "https://books.toscrape.com/catalogue/page-30.html\n",
      "https://books.toscrape.com/catalogue/page-31.html\n",
      "https://books.toscrape.com/catalogue/page-32.html\n",
      "https://books.toscrape.com/catalogue/page-33.html\n",
      "https://books.toscrape.com/catalogue/page-34.html\n",
      "https://books.toscrape.com/catalogue/page-35.html\n",
      "https://books.toscrape.com/catalogue/page-36.html\n",
      "https://books.toscrape.com/catalogue/page-37.html\n",
      "https://books.toscrape.com/catalogue/page-38.html\n",
      "https://books.toscrape.com/catalogue/page-39.html\n",
      "https://books.toscrape.com/catalogue/page-40.html\n",
      "https://books.toscrape.com/catalogue/page-41.html\n",
      "https://books.toscrape.com/catalogue/page-42.html\n",
      "https://books.toscrape.com/catalogue/page-43.html\n",
      "https://books.toscrape.com/catalogue/page-44.html\n",
      "https://books.toscrape.com/catalogue/page-45.html\n",
      "https://books.toscrape.com/catalogue/page-46.html\n",
      "https://books.toscrape.com/catalogue/page-47.html\n",
      "https://books.toscrape.com/catalogue/page-48.html\n",
      "https://books.toscrape.com/catalogue/page-49.html\n",
      "https://books.toscrape.com/catalogue/page-50.html\n"
     ]
    }
   ],
   "source": [
    "max_p = 50\n",
    "\n",
    "for i in range(1 , max_p + 1):\n",
    "    URL = f\"https://books.toscrape.com/catalogue/page-{i}.html\"\n",
    "    print(URL)"
   ]
  },
  {
   "cell_type": "code",
   "execution_count": 12,
   "metadata": {},
   "outputs": [
    {
     "data": {
      "text/plain": [
       "'do'"
      ]
     },
     "execution_count": 12,
     "metadata": {},
     "output_type": "execute_result"
    }
   ],
   "source": [
    "name = \"Rido\"\n",
    "name[-2::1]"
   ]
  },
  {
   "cell_type": "code",
   "execution_count": 15,
   "metadata": {},
   "outputs": [
    {
     "data": {
      "text/plain": [
       "'acegik'"
      ]
     },
     "execution_count": 15,
     "metadata": {},
     "output_type": "execute_result"
    }
   ],
   "source": [
    "name = \"abcdefghijkl\"\n",
    "name[::2]"
   ]
  },
  {
   "cell_type": "code",
   "execution_count": 16,
   "metadata": {},
   "outputs": [
    {
     "data": {
      "text/plain": [
       "[242, 982, 423]"
      ]
     },
     "execution_count": 16,
     "metadata": {},
     "output_type": "execute_result"
    }
   ],
   "source": [
    "numbers = [242,372,982,231,423,574]\n",
    "numbers[::2]"
   ]
  },
  {
   "cell_type": "code",
   "execution_count": 18,
   "metadata": {},
   "outputs": [
    {
     "data": {
      "text/plain": [
       "'150'"
      ]
     },
     "execution_count": 18,
     "metadata": {},
     "output_type": "execute_result"
    }
   ],
   "source": [
    "max_page = \"Page 1 of 150\"\n",
    "max_page[-2::1]"
   ]
  },
  {
   "cell_type": "code",
   "execution_count": 41,
   "metadata": {},
   "outputs": [
    {
     "name": "stdout",
     "output_type": "stream",
     "text": [
      "1029310293\n"
     ]
    }
   ],
   "source": [
    "max_page = \"Page 1 of 1029310293\"\n",
    "\n",
    "out = \"\"\n",
    "for p in max_page:\n",
    "    if p.isnumeric():\n",
    "        out += p\n",
    "    elif not p.isnumeric():\n",
    "        out = \"\"\n",
    "            \n",
    "    \n",
    "print(out)"
   ]
  },
  {
   "cell_type": "code",
   "execution_count": 40,
   "metadata": {},
   "outputs": [
    {
     "name": "stdout",
     "output_type": "stream",
     "text": [
      "923232\n"
     ]
    }
   ],
   "source": [
    "import re\n",
    "\n",
    "string = \"Page 1 of 923232\"\n",
    "match = re.search(r'of (\\d+)', string)\n",
    "if match:\n",
    "    value = int(match.group(1))\n",
    "    print(value)  # Output: 150"
   ]
  },
  {
   "cell_type": "code",
   "execution_count": 27,
   "metadata": {},
   "outputs": [
    {
     "name": "stdout",
     "output_type": "stream",
     "text": [
      "r\n",
      "ri\n",
      "rid\n",
      "rido\n"
     ]
    }
   ],
   "source": [
    "nama = \"\" \n",
    "\n",
    "n1 = \"r\"\n",
    "n2 = \"i\"\n",
    "n3 = \"d\"\n",
    "n4 = \"o\"\n",
    "\n",
    "ns = [n1,n2,n3,n4]\n",
    "for n in ns:\n",
    "    nama = nama + n\n",
    "    print(nama)"
   ]
  },
  {
   "cell_type": "code",
   "execution_count": 42,
   "metadata": {},
   "outputs": [
    {
     "ename": "TypeError",
     "evalue": "'str' object cannot be interpreted as an integer",
     "output_type": "error",
     "traceback": [
      "\u001b[1;31m---------------------------------------------------------------------------\u001b[0m",
      "\u001b[1;31mTypeError\u001b[0m                                 Traceback (most recent call last)",
      "Cell \u001b[1;32mIn[42], line 3\u001b[0m\n\u001b[0;32m      1\u001b[0m max_p \u001b[38;5;241m=\u001b[39m \u001b[38;5;124m\"\u001b[39m\u001b[38;5;124m50\u001b[39m\u001b[38;5;124m\"\u001b[39m\n\u001b[1;32m----> 3\u001b[0m \u001b[38;5;28;01mfor\u001b[39;00m i \u001b[38;5;129;01min\u001b[39;00m \u001b[38;5;28;43mrange\u001b[39;49m\u001b[43m(\u001b[49m\u001b[43mmax_p\u001b[49m\u001b[43m)\u001b[49m:\n\u001b[0;32m      4\u001b[0m     \u001b[38;5;28mprint\u001b[39m(i)\n",
      "\u001b[1;31mTypeError\u001b[0m: 'str' object cannot be interpreted as an integer"
     ]
    }
   ],
   "source": [
    "max_p = \"50\"\n",
    "max_p = int(max_p)\n",
    "for i in range(max_p):\n",
    "    print(i)"
   ]
  },
  {
   "cell_type": "code",
   "execution_count": null,
   "metadata": {},
   "outputs": [],
   "source": []
  }
 ],
 "metadata": {
  "kernelspec": {
   "display_name": ".venv",
   "language": "python",
   "name": "python3"
  },
  "language_info": {
   "codemirror_mode": {
    "name": "ipython",
    "version": 3
   },
   "file_extension": ".py",
   "mimetype": "text/x-python",
   "name": "python",
   "nbconvert_exporter": "python",
   "pygments_lexer": "ipython3",
   "version": "3.12.1"
  }
 },
 "nbformat": 4,
 "nbformat_minor": 2
}
